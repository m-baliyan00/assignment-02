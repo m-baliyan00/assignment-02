{
 "cells": [
  {
   "cell_type": "raw",
   "id": "5bbd16c2-0cf2-422a-a8dc-16ee46e8ec10",
   "metadata": {},
   "source": [
    "Q1. How do you comment code in Python? What are the different types of comments?"
   ]
  },
  {
   "cell_type": "raw",
   "id": "6770ae18-cbd5-41e1-91b3-8ea3fbd18e2e",
   "metadata": {},
   "source": [
    "we need to comment in code to increse understanding of code.\n",
    "we can comment in python three types:\n",
    "    1. single line comment. ( use # )\n",
    "    2. multiline comment. ( use # in all lines)\n",
    "    3. docstring or multistring comment. ( \"\"\" gg \"\"\" )"
   ]
  },
  {
   "cell_type": "raw",
   "id": "4a3a671f-bb29-440b-84a0-c6471a22ee27",
   "metadata": {},
   "source": [
    "Q2. What are variables in Python? How do you declare and assign values to variables?"
   ]
  },
  {
   "cell_type": "raw",
   "id": "26452291-6c20-4073-80ee-d56ef4be08f3",
   "metadata": {},
   "source": [
    "variables are a basically space or address to store value. we need to create variable and \n",
    "then we can put value in this."
   ]
  },
  {
   "cell_type": "code",
   "execution_count": null,
   "id": "85466886-acd5-41fb-b7d6-26d9b9b42c2f",
   "metadata": {},
   "outputs": [],
   "source": [
    "a = 12 # frist declare variable a and then assign value."
   ]
  },
  {
   "cell_type": "raw",
   "id": "6151b120-fa2b-4ad3-963b-8756f5561d7f",
   "metadata": {},
   "source": [
    "Q3. How do you convert one data type to another in Python?"
   ]
  },
  {
   "cell_type": "raw",
   "id": "5f8d5c91-c02d-4e34-aed6-5facb7dbf7a2",
   "metadata": {},
   "source": [
    "this process in known as 'typecasting'. it help to change type of value store in variable."
   ]
  },
  {
   "cell_type": "code",
   "execution_count": 6,
   "id": "a7b82251-122f-4c81-8d06-d0620168ff9b",
   "metadata": {},
   "outputs": [
    {
     "name": "stdout",
     "output_type": "stream",
     "text": [
      "12.0\n",
      "12.0 <class 'float'>\n",
      "12.0 <class 'str'>\n"
     ]
    }
   ],
   "source": [
    "a = 12.0\n",
    "print(a, type(a))\n",
    "b = str(a)\n",
    "print(b, type(b))"
   ]
  },
  {
   "cell_type": "raw",
   "id": "bf5c34cf-70ee-4ef4-96c6-61f8e228c701",
   "metadata": {},
   "source": [
    "Q4. How do you write and execute a Python script from the command line?"
   ]
  },
  {
   "cell_type": "raw",
   "id": "aed5f1e8-0683-466b-8f30-c05e333756eb",
   "metadata": {},
   "source": [
    "To run Python scripts with the python command, you need to open a command-line and type in the\n",
    "word python3, followed by the path to your script."
   ]
  },
  {
   "cell_type": "code",
   "execution_count": null,
   "id": "fdee3eb8-afac-4353-9413-099a7170716a",
   "metadata": {},
   "outputs": [],
   "source": [
    "$ #we need to give path where we store our file (pwskills.py)\n",
    "$python3_pwskills.py"
   ]
  },
  {
   "cell_type": "raw",
   "id": "3eae45a7-c120-483e-93e1-d0909ead9762",
   "metadata": {},
   "source": [
    "Q5. Given a list my_list = [1, 2, 3, 4, 5], write the code to slice the list and obtain the sub-list [2, 3]"
   ]
  },
  {
   "cell_type": "code",
   "execution_count": 9,
   "id": "5b2e8734-59fd-44c8-aa36-26c59c072e61",
   "metadata": {},
   "outputs": [
    {
     "name": "stdout",
     "output_type": "stream",
     "text": [
      "[2, 3]\n"
     ]
    }
   ],
   "source": [
    "my_list = [1, 2, 3, 4, 5]\n",
    "a = slice(1, 3, 1)\n",
    "print(my_list[a])"
   ]
  },
  {
   "cell_type": "raw",
   "id": "90de3a9e-4099-4543-aa17-dbd28980589d",
   "metadata": {},
   "source": [
    "Q6. What is a complex number in mathematics, and how is it represented in Python?"
   ]
  },
  {
   "cell_type": "raw",
   "id": "73a8503f-87c1-4ee7-9bf0-e3c5d4932b5d",
   "metadata": {},
   "source": [
    "complex number are just a combination of real number and imaginary number. it is repersented as (a+bi) "
   ]
  },
  {
   "cell_type": "code",
   "execution_count": 12,
   "id": "68e6d428-6acb-448b-9f39-b24701f7dd28",
   "metadata": {},
   "outputs": [
    {
     "name": "stdout",
     "output_type": "stream",
     "text": [
      "(56+0j)\n",
      "<class 'complex'>\n"
     ]
    }
   ],
   "source": [
    "a = 23\n",
    "b = 33\n",
    "c = complex(a+b)\n",
    "print(c)\n",
    "print(type(c))"
   ]
  },
  {
   "cell_type": "code",
   "execution_count": 15,
   "id": "0d0f2bbf-1e5e-4150-8990-8ef558013002",
   "metadata": {},
   "outputs": [
    {
     "name": "stdout",
     "output_type": "stream",
     "text": [
      "56.0\n",
      "0.0\n"
     ]
    }
   ],
   "source": [
    "print(c.real)\n",
    "print(c.imag)"
   ]
  },
  {
   "cell_type": "raw",
   "id": "2f3bb798-d368-4759-86d3-d85ccc9ea938",
   "metadata": {},
   "source": [
    "Q7. What is the correct way to declare a variable named age and assign the value 25 to it?"
   ]
  },
  {
   "cell_type": "code",
   "execution_count": 18,
   "id": "e0af2966-f42e-44df-8ed9-1b1aa82e8d03",
   "metadata": {},
   "outputs": [
    {
     "name": "stdout",
     "output_type": "stream",
     "text": [
      "25\n"
     ]
    }
   ],
   "source": [
    "age = 25\n",
    "print(age)"
   ]
  },
  {
   "cell_type": "raw",
   "id": "08ed460e-22e0-4c1c-9b5e-0d428bf05529",
   "metadata": {},
   "source": [
    "Q8. Declare a variable named price and assign the value 9.99 to it. What data type does this variable \n",
    "belong to?"
   ]
  },
  {
   "cell_type": "code",
   "execution_count": 21,
   "id": "e1ed7a43-ad4a-4a06-8c01-55501952aa4e",
   "metadata": {},
   "outputs": [
    {
     "name": "stdout",
     "output_type": "stream",
     "text": [
      "9.99 <class 'float'>\n"
     ]
    }
   ],
   "source": [
    "named = 9.99\n",
    "print(named,type(named))"
   ]
  },
  {
   "cell_type": "raw",
   "id": "92d33fe5-f7f3-4e88-96ba-b00fff28a7b7",
   "metadata": {},
   "source": [
    "Q9. Create a variable named name and assign your full name to it as a string. How would you print the \n",
    "value of this variable?"
   ]
  },
  {
   "cell_type": "code",
   "execution_count": 31,
   "id": "619e52ea-bf8b-4743-bfa5-b6af6abbc84f",
   "metadata": {},
   "outputs": [
    {
     "name": "stdout",
     "output_type": "stream",
     "text": [
      "mohit baliyan\n",
      "<class 'str'>\n"
     ]
    }
   ],
   "source": [
    "name = \"mohit baliyan\"\n",
    "print(name)\n",
    "print(type(name))"
   ]
  },
  {
   "cell_type": "raw",
   "id": "ce1caeef-f528-484d-9942-de0565dc35d7",
   "metadata": {},
   "source": [
    "Q10. Given the string \"Hello, World!\", extract the substring \"World\""
   ]
  },
  {
   "cell_type": "code",
   "execution_count": 30,
   "id": "d72ecc6c-2e4a-4f96-bc0a-b0b88a053ed9",
   "metadata": {},
   "outputs": [
    {
     "name": "stdout",
     "output_type": "stream",
     "text": [
      "12\n",
      "World\n",
      "<class 'str'>\n"
     ]
    }
   ],
   "source": [
    "a = \"Hello, World\"\n",
    "print(len(a))\n",
    "b = slice(7,12)\n",
    "print(a[b])\n",
    "print(type(a[b]))"
   ]
  },
  {
   "cell_type": "raw",
   "id": "62f40601-28f9-4956-b79d-9563a68c3f0e",
   "metadata": {},
   "source": [
    "Q11. Create a variable named \"is_student\" and assign it a boolean value indicating whether you are \n",
    "currently a student or not"
   ]
  },
  {
   "cell_type": "code",
   "execution_count": 36,
   "id": "9199e47f-b1c3-4d08-b7c3-6c96160b8360",
   "metadata": {},
   "outputs": [
    {
     "name": "stdout",
     "output_type": "stream",
     "text": [
      "kk\n"
     ]
    }
   ],
   "source": [
    "is_student = True\n",
    "a = is_student\n",
    "if a == True:\n",
    "    print(\" i am currently a student\")\n",
    "else:"
   ]
  },
  {
   "cell_type": "code",
   "execution_count": null,
   "id": "77ea386a-765e-42ea-892a-752116201d4f",
   "metadata": {},
   "outputs": [],
   "source": []
  }
 ],
 "metadata": {
  "kernelspec": {
   "display_name": "Python 3 (ipykernel)",
   "language": "python",
   "name": "python3"
  },
  "language_info": {
   "codemirror_mode": {
    "name": "ipython",
    "version": 3
   },
   "file_extension": ".py",
   "mimetype": "text/x-python",
   "name": "python",
   "nbconvert_exporter": "python",
   "pygments_lexer": "ipython3",
   "version": "3.10.8"
  }
 },
 "nbformat": 4,
 "nbformat_minor": 5
}
